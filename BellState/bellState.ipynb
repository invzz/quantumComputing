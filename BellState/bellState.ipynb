{
 "cells": [
  {
   "cell_type": "code",
   "execution_count": 4,
   "metadata": {},
   "outputs": [],
   "source": [
    "## Andres Coronado, Luca Frontirre` \n",
    "## corso di computazione quantistica anno 2019/2020\n",
    "\n",
    "## api login using token text file with token \n",
    "## obtained from ibm q-experience website once logged\n",
    "\n",
    "from qiskit import IBMQ\n",
    "IBMQ.save_account(open(\"token.txt\").read())"
   ]
  },
  {
   "cell_type": "code",
   "execution_count": 5,
   "metadata": {},
   "outputs": [
    {
     "name": "stderr",
     "output_type": "stream",
     "text": [
      "/home/ac/anaconda3/lib/python3.7/site-packages/qiskit/providers/ibmq/ibmqfactory.py:181: UserWarning: Credentials are already in use. The existing account in the session will be replaced.\n",
      "  warnings.warn('Credentials are already in use. The existing '\n"
     ]
    },
    {
     "data": {
      "text/plain": [
       "<AccountProvider for IBMQ(hub='ibm-q', group='open', project='main')>"
      ]
     },
     "execution_count": 5,
     "metadata": {},
     "output_type": "execute_result"
    }
   ],
   "source": [
    "## loading account\n",
    "IBMQ.load_account()\n"
   ]
  },
  {
   "cell_type": "code",
   "execution_count": 6,
   "metadata": {},
   "outputs": [
    {
     "data": {
      "image/png": "[encoded data removed]",
      "text/plain": [
       "<Figure size 397.32x204.68 with 1 Axes>"
      ]
     },
     "execution_count": 6,
     "metadata": {},
     "output_type": "execute_result"
    }
   ],
   "source": [
    "## Andres Coronado, Luca Frontirre` \n",
    "## corso di computazione quantistica anno 2019/2020\n",
    "## importing quiskit api\n",
    "import qiskit as q\n",
    "%matplotlib inline\n",
    "#il mio circuito\n",
    "circuit = q.QuantumCircuit( 2, 2) #2 qubits, 2 classical bits\n",
    "#0 , 0\n",
    "circuit.h(0) \n",
    "#1 , 0\n",
    "circuit.cx(0, 1) #cnot, controlled not. Flips second qubit only if first qbit is 1\n",
    "#1, 1\n",
    "circuit.measure([0, 1],[0, 1]) #measurement with output space\n",
    "circuit.draw(output='mpl')\n"
   ]
  },
  {
   "cell_type": "code",
   "execution_count": 7,
   "metadata": {},
   "outputs": [
    {
     "name": "stdout",
     "output_type": "stream",
     "text": [
      "[ibmq_qasm_simulator] ha 0 lavori in coda e simulated qubits\n",
      "[ibmqx2] ha 0 lavori in coda e 5 qubits\n",
      "[ibmq_16_melbourne] ha 14 lavori in coda e 15 qubits\n",
      "[ibmq_vigo] ha 6 lavori in coda e 5 qubits\n",
      "[ibmq_ourense] ha 1 lavori in coda e 5 qubits\n",
      "[ibmq_london] ha 15 lavori in coda e 5 qubits\n",
      "[ibmq_burlington] ha 0 lavori in coda e 5 qubits\n",
      "[ibmq_essex] ha 19 lavori in coda e 5 qubits\n",
      "[ibmq_armonk] ha 0 lavori in coda e 1 qubits\n"
     ]
    }
   ],
   "source": [
    "#printing out all the queues\n",
    "provider = IBMQ.get_provider(\"ibm-q\")\n",
    "\n",
    "for backend in provider.backends():\n",
    "    try:\n",
    "        qubit_count =  len(backend.properties().qubits)\n",
    "    except:\n",
    "        qubit_count = \"simulated\"\n",
    "        \n",
    "    #Italian Front-End :-D\n",
    "    print(f\"[{backend.name()}] ha {backend.status().pending_jobs} lavori in coda e {qubit_count} qubits\")"
   ]
  },
  {
   "cell_type": "code",
   "execution_count": 8,
   "metadata": {},
   "outputs": [
    {
     "name": "stdout",
     "output_type": "stream",
     "text": [
      "Job Status: job has successfully run\n"
     ]
    }
   ],
   "source": [
    "#chose one backend (less queue better... need to wait....)\n",
    "from qiskit.tools.monitor import job_monitor\n",
    "backend = provider.get_backend(\"ibmq_qasm_simulator\")\n",
    "job = q.execute(circuit, backend=backend, shots=500)\n",
    "job_monitor(job)"
   ]
  },
  {
   "cell_type": "code",
   "execution_count": 9,
   "metadata": {},
   "outputs": [
    {
     "data": {
      "image/png": "[encoded data removed]",
      "text/plain": [
       "<Figure size 504x360 with 1 Axes>"
      ]
     },
     "execution_count": 9,
     "metadata": {},
     "output_type": "execute_result"
    }
   ],
   "source": [
    "from qiskit.visualization import plot_histogram\n",
    "from matplotlib import style\n",
    "\n",
    "#dark background on jupyterLab...\n",
    "style.use(\"dark_background\")\n",
    "\n",
    "result=job.result()\n",
    "counts = result.get_counts(circuit)\n",
    "\n",
    "plot_histogram([counts])"
   ]
  },
  {
   "cell_type": "code",
   "execution_count": null,
   "metadata": {},
   "outputs": [],
   "source": []
  }
 ],
 "metadata": {
  "kernelspec": {
   "display_name": "Python 3",
   "language": "python",
   "name": "python3"
  },
  "language_info": {
   "codemirror_mode": {
    "name": "ipython",
    "version": 3
   },
   "file_extension": ".py",
   "mimetype": "text/x-python",
   "name": "python",
   "nbconvert_exporter": "python",
   "pygments_lexer": "ipython3",
   "version": "3.7.4"
  }
 },
 "nbformat": 4,
 "nbformat_minor": 4
}
