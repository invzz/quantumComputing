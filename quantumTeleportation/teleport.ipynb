{
 "cells": [
  {
   "cell_type": "code",
   "execution_count": 83,
   "metadata": {},
   "outputs": [
    {
     "name": "stderr",
     "output_type": "stream",
     "text": [
      "Credentials already present. Set overwrite=True to overwrite.\n",
      "Credentials are already in use. The existing account in the session will be replaced.\n"
     ]
    },
    {
     "data": {
      "text/plain": [
       "<AccountProvider for IBMQ(hub='ibm-q', group='open', project='main')>"
      ]
     },
     "execution_count": 83,
     "metadata": {},
     "output_type": "execute_result"
    }
   ],
   "source": [
    "## Quantum Teleportation experiment\n",
    "## Andres Coronado - Luca Frontirre` \n",
    "## Unige - Assignment by prof. Solinas\n",
    "import math\n",
    "import qiskit as qk\n",
    "\n",
    "from qiskit import IBMQ\n",
    "from qiskit import ClassicalRegister, QuantumRegister, QuantumCircuit\n",
    "\n",
    "#useful additional packages\n",
    "import matplotlib.pyplot as plt\n",
    "%matplotlib inline\n",
    "import numpy as np\n",
    "from math import pi\n",
    "\n",
    "from qiskit.tools.visualization import circuit_drawer\n",
    " \n",
    "#visualization\n",
    "from qiskit.visualization import(\n",
    "  plot_state_city,\n",
    "  plot_bloch_multivector,\n",
    "  plot_state_paulivec,\n",
    "  plot_state_hinton,\n",
    "  plot_state_qsphere,\n",
    ")\n",
    "\n",
    "\n",
    "IBMQ.save_account(open(\"token.txt\").read())\n",
    "IBMQ.load_account()"
   ]
  },
  {
   "cell_type": "markdown",
   "metadata": {},
   "source": [
    "$$\\newcommand{\\ket}[1]{\\left|{#1}\\right\\rangle}$$\n",
    "$$\\newcommand{\\bra}[1]{\\left\\langle{#1}\\right|}$$\n",
    "# Quantum teleportation\n",
    "\n",
    "## Abstract\n",
    "<hr>\n",
    "\n",
    "Alice vuole inviare una informazione *quantistica* a Bob. <br>\n",
    "Nello specifico supponiamo che Alice voglia di dover mandare uno stato generico<br>   \n",
    "$$\\ket{\\psi} = \\alpha \\ket{0} + \\beta \\ket{1} $$ a Bob.\n",
    "\n",
    "## Non si può semplicimente copiare\n",
    "<hr>\n",
    "Esiste un teorema nella meccanica quantistica conosciuto come \"non cloning theorem\" \n",
    "che ci dice che non si può smeplicemente copiare esattamente uno stato quantistico \"sovrapposto\" \n",
    "non misurato, perciò Alice non può inviare una copia del suo stato $\\ket{\\psi}$ e darla a Bob. \n",
    "Copiare uno stato è solo possibile con bit \"tradizionali\"\n",
    "\n",
    "Ciò nonostante Alice può trasferire il suo stato a Bob senza copiaro ma attraverso un protocollo \n",
    "(un algoritmo distribuito) che qui chiamiamo \" teletrasporto quantistico\" poichè come risultato di\n",
    "tale operazione Bob sarà in possesso dello stato $\\ket{\\psi}$ ed allo stesso tempo Alice lo perderà.\n",
    "\n",
    "## Protocollo di teletrasporto quantistico\n",
    "<hr>\n",
    "il protocollo si compone di 4 passi:\n",
    "\n",
    "### 1. Generare una coppia di bit Entangled\n",
    "Si prende una coppia di qBit $q0$ e $q1$ i quali siano in uno stato entangled. Questa coppia di qBit \n",
    "è detta coppia di Bell poichè si ottiene in computazione quantistica applicando su uno dei qBit la porta \n",
    "H (la porta di Hadamard), il cui output porta tale qBit a trovarsi in uno stato svrapposto la cui probabiltà\n",
    "di misurare $\\ket{1}$ è la stessa di misurare $\\ket{0}$ (base di Bell) e successivamente si applica una porta $CNOT$ \n",
    "all'altro qBit, controllata da quello nella base di Bell come illustrato nella seguente funzione: \n",
    "         "
   ]
  },
  {
   "cell_type": "code",
   "execution_count": 84,
   "metadata": {},
   "outputs": [],
   "source": [
    "# Crea stato entangled tra 2 qbits \n",
    "def createBellEntangledState(qCircuit,aliceQBit,BobQbit):\n",
    "    qCircuit.h(aliceQBit)\n",
    "    qCircuit.cx(aliceQBit,BobQbit)\n",
    "    return   "
   ]
  },
  {
   "cell_type": "markdown",
   "metadata": {},
   "source": [
    "Ad esempio partendo $q0 = \\ket{0}$ \n",
    "otteniamo $ \\Rightarrow H|0>=\\dfrac{\\ket{0}+\\ket{1}}{\\sqrt{2}}$, \n",
    "\n",
    "successivamente applicando la porta $CNOT$ controllata da $q1$, \n",
    "abbiamo la garanzia che lo stato di $q1$ dipenda dallo stato di $q0$\n",
    "\n",
    "- con $P=\\dfrac{1}{\\sqrt{2}^2} = \\dfrac{1}{2}$ misurando $q0$ si leggerà $\\ket{0}>$\n",
    "- si leggerà quindi $|1>$ con altrettanta probabilità \n",
    "\n",
    "Di conseguenza supponendo $q1$ inizialmente a $\\ket{0}$ dopo una misura risulterà \n",
    "\n",
    "- $\\ket{0}$ se la misura in $q0$ fosse risultata $\\ket{0}$\n",
    "- $\\ket{1}$ se la misura in $q0$ fosse risultata $\\ket{1}$ \n",
    "\n",
    "più formalmente accoppiando i due qBit si ottiene:\n",
    "\n",
    "$\\ket{\\beta_{00}}=\\dfrac{1}{\\sqrt{2}}(\\ket{0}_A\\otimes\\ket{0}_B+\\ket{1}_A\\otimes\\ket{1}_B)$\n",
    "\n",
    "Questo è quindi il significato di una coppia di qBit in questa conficurazione: \n",
    "\n",
    "*la misura del primo dei due qBit determina quello che sarà misurato nel secondo.*    \n",
    "\n",
    "Per continuare supporremo quindi che\n",
    "- *Alice possega $\\ket{\\psi}$*\n",
    "- *Alice possegga q0*\n",
    "- *Bob possegga q1*\n",
    "\n",
    "#### Sulla costruzione dello stato $\\ket{\\psi}$ \n",
    "<hr>\n",
    "Per la generazione di uno stato arbitrario $\\ket{\\psi} = \\alpha\\ket{0}+\\ket{1}$ abbiamo dapprima usato il metodo **Initialize** messo a disposizione dal kit di sviluppo qiskit.\n",
    "\n",
    "Definiamo quindi una funzione che avendo in input una probabilità $|\\alpha|^2$  (ed un circuito quantistico) generi una porta quantistica che costruisca lo stato desiderato\n",
    "\n",
    "Il metodo initialize appartenente alla classe Inizializer di qiskit per ottenere uno stato arbitrario costruisce un circuito ottimizzato e quindi meno soggetto ad errori.\n",
    "\n",
    "#### Sulla costruzione di $\\ket{psi}$ senza initialize \n",
    "\n",
    "Per Ottenere uno stato arbitrario in maniera \"manuale\" bisogna riscriver alle componenti $\\alpha$ e $\\beta$ appartenenti allo stato $\\ket{\\psi}$.\n",
    "in una forma che possiamo maneggiare e per fare ciò ricapitoliamo:\n",
    "\n",
    "- $|\\alpha|^2+|\\beta|^2=1$ \n",
    "- La fase globale non è rilevabile cioè $\\left|\\psi\\right\\rangle := e^{i\\delta} \\left|\\psi\\right\\rangle$\n",
    "- Dopo una misura, la probabilità che il sistema sia in $\\ket{0}$ è $|\\alpha|^2$\t\n",
    "- Dopo una misura, la probabilità che il sistema sia in $\\ket{1}$ è $|\\beta|^2$\n",
    "\n",
    "Riscrivendo quindi lo stato $\\ket{\\psi}$ come :\n",
    "\n",
    "$$\n",
    "\\left|\\psi\\right\\rangle = \\cos(\\theta/2)\\left|0\\right\\rangle + \\sin(\\theta/2) e^{i\\phi} \\left|1\\right\\rangle \\\\\n",
    "\\text{dove: }\\sin{\\theta}^2 + \\cos{\\phi}^2 = 1\n",
    "$$\n",
    "\n",
    "possiamo desumere che, come evidenziato vi è la possibilità di mappare tutti gli stati possibili dei qbit ($\\mathbb{C}^2$) \n",
    "sui punti della sfera unitaria, chiamata la sfera di Bloch.\n",
    "\n",
    "Questo ci permette di stabilre che uno stato generico possa essere rappresentato da un vettore di lunghezza unitaria definito dai suoi due angoli (numeri reali) $\\theta$ e $\\psi$, \n",
    "\n",
    "mentre un operatore può essere quindi visto come una trasformazione (una rotazione su uno o sui due angoli).\n",
    "\n",
    "<img src=\"bloch.png\" height=10>\n",
    "\n",
    "Ad esempio una porta unitaria $U_{\\theta}$ che realizzi una rotazione può essere scritta: \n",
    "\n",
    "$$\n",
    "U_{\\theta}\n",
    "\\begin{bmatrix}\n",
    "0 \\\\\n",
    "1 \n",
    "\\end{bmatrix}\t\n",
    "= \n",
    "\\begin{bmatrix}\n",
    "cos{\\theta} & sin{\\theta} \\\\\n",
    "sin{\\theta} & -cos{\\theta}\n",
    "\\end{bmatrix}\n",
    "\\begin{bmatrix}\n",
    "0 \\\\\n",
    "1 \n",
    "\\end{bmatrix}\n",
    "$$\n",
    "\n",
    "Questa porta risulta in una rotazione con segno opposto per $\\ket{1}$, mentre di una normale rotazione per $\\ket{0}$. \n",
    "Alcuni, casi notevoli:\n",
    "\n",
    "- quando $\\theta$ vale $0$ lo stato $\\ket{0}$ rimane invariato mentre lo stato $\\ket{1}$ ha segno opposto.\n",
    "- quando $\\theta$ vale $\\dfrac{\\pi}{4}$ $U_{\\theta}$ si comporta come una porta di Hadamard-Walsh\n",
    "- quando $\\theta$ vale $\\dfrac{\\pi}{2}$ $U_{\\theta}$ si comporta come una porta NOT.\n",
    "\n",
    "Similmente possiamo pensare a porte che possano effettuare rotazioni arbitrarie (su un asse arbitrario) generalizzando possiamo ottenere uno stato \n",
    "arbitrario compiendo una rotazione dallo stato iniziale del qBit applicando una porta unitaria $U = e^{i\\gamma}R_{\\hat{n}(\\alpha)}$ per una coppia \n",
    "di valori $\\gamma$ e $\\alpha$ e un vettore tridimensionale (asse) $\\hat{n}$ che utilizzi le tre rotazioni $R_x$, $R_y$, $R_z$ ottenute esponenziando\n",
    "le matrici $X$ $Y$ $Z$ di Pauli. (ad esempio $R_x= e^{-i\\dfrac{\\theta}{2}X}$)\n",
    "- Ad esempio $U$ con $ \\gamma = \\dfrac{\\pi}{2}$, $\\alpha=\\pi$ e $\\hat{n} =(\\dfrac{1}{\\sqrt{2}},0,\\dfrac{1}{\\sqrt{2}}) $ da origine a una porta $H$.\n",
    "\n",
    "Una volta espresso un vettore $q$ nella sfera di Bloch in termini di angoli possiamo quindi sempre trovare \n",
    "una trasformazione che possa spostare il nostro vettore iniziale a sovrapporsi a $q$.\n",
    "\n",
    "di seguito il codice che abbiamo utilizzato per creare uno stato arbitrario ( di cui si discute nelle dispense al capitolo 3)\n"
   ]
  },
  {
   "cell_type": "code",
   "execution_count": 240,
   "metadata": {},
   "outputs": [],
   "source": [
    "# funzione che inizializza uno stato quantistico arbitrario\n",
    "# |psi> = sqrt(alpha)|0> + sqrt(1-alpha)|1>\n",
    "# = cos(theta/2)|0> + exp(-igamma) sen|1>\n",
    "\n",
    "def initialize(p, qC, q):\n",
    "    \n",
    "    halfTheta = np.arccos(np.sqrt(p))\n",
    "    gamma = (1-p)/halfTheta\n",
    "    qC.h(q)\n",
    "    qC.u1(-2*halfTheta,q)\n",
    "    qC.h(q)\n",
    "    qC.u1(-np.pi/2,q)\n",
    "    qC.u1(gamma,q)\n",
    "    return\n",
    "\n",
    "# funzione inversa della initialize\n",
    "def reverse(p, qC, q):\n",
    "    halfTheta = np.arccos(np.sqrt(p))\n",
    "    gamma = np.arccos(np.sqrt(1-p)/halfTheta)\n",
    "    qC.u1(gamma,q)\n",
    "    qC.u1(-np.pi/2,q)\n",
    "    qC.h(q)\n",
    "    qC.u1(-2*halfTheta,q)\n",
    "    qC.h(q)\n",
    "    return\n",
    "    "
   ]
  },
  {
   "cell_type": "markdown",
   "metadata": {},
   "source": [
    "### 2. Alice accoppia $\\ket{\\psi}$ a $\\ket{\\beta_{00}}$ e applica una una porta di Hadamard al qbit da inviare\n",
    "<hr>\n",
    "In questo modo Alice che ha ora a dispozione due qBit dapprima accoppia lo stato entangled $ \\ket{ \\beta_{00} } $ a $\\ket{\\psi}$ ottenendo\n",
    "$$ \\ket{\\psi_0}=\\ket{\\psi}\\ket{\\beta_{00}}=\\dfrac{1}{\\sqrt{2}} \\left[ \\alpha \\ket{0} (\\ket{00}+\\ket{11}) + \\beta\\ket{1} ( \\ket{00}+\\ket{11} ) \\right]  $$\n",
    "Dove i primi due qBits sono quelli di Alice mentre il terzo quello di Bob.\n",
    "- A questo punto Alice applica la porta $CNOT$ usando il suo primo qBit come controllo (dalle note di Solinas cp 4, pg 53):\n",
    "$$\\ket{\\psi_1}=\\dfrac{1}{2} \\left[ \\alpha \\ket{0} (\\ket{00}+\\ket{11}) + \\beta\\ket{1} ( \\ket{10}+\\ket{01} ) \\right] $$\n",
    "- Alice applica quindi una porta di Hadamard al primo qBit ottenendo (dalle note di Solinas cp 4, pg 53):\n",
    "$$\n",
    "\\ket{\\psi_2}=\\dfrac{1}{2} \\left[  \n",
    "\\ket{00}(\\alpha\\ket{0}+\\beta\\ket{1}) +  \n",
    "\\ket{01}(\\alpha\\ket{1}+\\beta\\ket{0}) +  \n",
    "\\ket{10}(\\alpha\\ket{0}-\\beta\\ket{1}) + \n",
    "\\ket{11}(\\alpha\\ket{1}-\\beta\\ket{0})\n",
    "\\right] \n",
    "$$\n",
    "\n",
    "Da questa scrittura \"espansa\" possiamo cogliere il fatto che il primo termine contiene esattamente l'informazione che Alice vuole mandare a Bob, anche se questi \n",
    "non può ora direttamente accedervi piochè il sistema si trova in \"sovrapposizione\" di stati\n",
    "\n",
    "### 3. Alice $\\ket{\\psi}$ e misura i suoi qBits\n",
    "<hr>\n",
    "In questo modo costringiamo il sistema a collassare rendendo accessibile a Bob l'informazione. \n",
    "\n",
    "### 4. Alice chiama Bob....\n",
    "<hr>\n",
    "A questo punto tutto è pronto ma Bob dovrà intraprendere una azione correttiva dipendente dalla misura che Alice ha effettuato. \n"
   ]
  },
  {
   "cell_type": "code",
   "execution_count": 285,
   "metadata": {},
   "outputs": [],
   "source": [
    "# circuit: circuito quantistico dove implementare il teletraasporto\n",
    "# aliceFstQbit: stato psi da teletrasportare attraverso il protocollo\n",
    "# aliceSndQbit: q0 appartenente ad Alice\n",
    "# bobQbit: q1 appartenente a Bob\n",
    "\n",
    "def deployTeleportProtocol(qCircuit, aliceFstQbit, aliceSndQbit, bobQbit, measureBits, modAlphaSquared):\n",
    "    \n",
    "    #1. Si creano i qbit entangled e si distribuiscon a Bob e Alice \n",
    "    createBellEntangledState(qCircuit,aliceSndQbit,bobQbit)\n",
    "    qCircuit.barrier()\n",
    "    #2. Alice applica una porta CNOT sul suo qBit controllata da psi\n",
    "    qCircuit.cx(aliceFstQbit,aliceSndQbit)\n",
    "    \n",
    "    #3. Alice applica una porta H a psi \n",
    "    qCircuit.h(aliceFstQbit) \n",
    "    # Aliche misura e comunica a bob il risultato\n",
    "    # qCircuit.measure(aliceFstQbit, measureBits[0])\n",
    "    # qCircuit.measure(aliceSndQbit, measureBits[1])\n",
    "       \n",
    "    qCircuit.cx(aliceSndQbit,bobQbit)\n",
    "    qCircuit.cz(aliceFstQbit,bobQbit)  \n",
    "    \n",
    "   "
   ]
  },
  {
   "cell_type": "code",
   "execution_count": 286,
   "metadata": {},
   "outputs": [],
   "source": [
    "\n",
    "def buildCircuit(modAlphaSquared):\n",
    "    # contiene i qbit: due di Alice uno di Bob \n",
    "    q = QuantumRegister(3) \n",
    "    # per effettuare le misure\n",
    "    c = ClassicalRegister(3)\n",
    "    # contiene il programma che verra` eseguito\n",
    "    qc = QuantumCircuit(q,c)\n",
    "    initialize(modAlphaSquared,qc,q[0])\n",
    "    qc.barrier()\n",
    "    deployTeleportProtocol(qc,q[0],q[1],q[2],c,modAlphaSquared)\n",
    "    #reverse(modAlphaSquared,qc,q[2])\n",
    "    qc.measure(q[0], c[0])\n",
    "    qc.measure(q[1], c[1])\n",
    "    qc.measure(q[2],2)\n",
    "    return qc"
   ]
  },
  {
   "cell_type": "code",
   "execution_count": 287,
   "metadata": {},
   "outputs": [
    {
     "data": {
      "image/png": "[encoded data removed]",
      "text/plain": [
       "<Figure size 780.02x189.2 with 1 Axes>"
      ]
     },
     "execution_count": 287,
     "metadata": {},
     "output_type": "execute_result"
    }
   ],
   "source": [
    "qc = buildCircuit(0.9)\n",
    "qc.draw(output='mpl',scale=0.5)"
   ]
  },
  {
   "cell_type": "code",
   "execution_count": 288,
   "metadata": {},
   "outputs": [
    {
     "data": {
      "image/png": "[encoded data removed]",
      "text/plain": [
       "<Figure size 780.02x189.2 with 1 Axes>"
      ]
     },
     "execution_count": 288,
     "metadata": {},
     "output_type": "execute_result"
    }
   ],
   "source": [
    "qc2 = buildCircuit(0.3)\n",
    "qc2.draw(output='mpl',scale=0.5)"
   ]
  },
  {
   "cell_type": "markdown",
   "metadata": {},
   "source": [
    "## Cosa ci aspettiamo che succeda\n",
    "\n",
    "Nel caso ideale ed ipotizzando che il nostro protocollo di teletrasporto quantistico funzioni, \n",
    "ci aspettiamo:\n",
    "\n",
    "- Nel primo caso con $|\\alpha|^2 = 0.9$ di ottenere una misura $0$ nel $90\\%$ delle prove e $1$ nel restante $10%$\n",
    "- Nel secondo caso con $|\\alpha|^2 = 0.3$ di ottenere una misura $0$ nel $30\\%$ delle prove e $1$ nel restante $70%$\n"
   ]
  },
  {
   "cell_type": "code",
   "execution_count": 289,
   "metadata": {},
   "outputs": [
    {
     "name": "stdout",
     "output_type": "stream",
     "text": [
      "[ibmq_qasm_simulator] ha 1 lavori in coda e simulated qubits\n",
      "[ibmqx2] ha 125 lavori in coda e 5 qubits\n",
      "[ibmq_16_melbourne] ha 144 lavori in coda e 15 qubits\n",
      "[ibmq_vigo] ha 3 lavori in coda e 5 qubits\n",
      "[ibmq_ourense] ha 2 lavori in coda e 5 qubits\n",
      "[ibmq_london] ha 6 lavori in coda e 5 qubits\n",
      "[ibmq_burlington] ha 2 lavori in coda e 5 qubits\n",
      "[ibmq_essex] ha 4 lavori in coda e 5 qubits\n",
      "[ibmq_armonk] ha 0 lavori in coda e 1 qubits\n"
     ]
    }
   ],
   "source": [
    "#printing out all the queues\n",
    "provider = IBMQ.get_provider(\"ibm-q\")\n",
    "\n",
    "for backend in provider.backends():\n",
    "    try:\n",
    "        qubit_count =  len(backend.properties().qubits)\n",
    "    except:\n",
    "        qubit_count = \"simulated\"\n",
    "        \n",
    "    #Italian Front-End :-D\n",
    "    print(f\"[{backend.name()}] ha {backend.status().pending_jobs} lavori in coda e {qubit_count} qubits\")"
   ]
  },
  {
   "cell_type": "code",
   "execution_count": 290,
   "metadata": {},
   "outputs": [
    {
     "name": "stdout",
     "output_type": "stream",
     "text": [
      "Job Status: job has successfully run\n",
      "Job Status: job has successfully run\n"
     ]
    }
   ],
   "source": [
    "#chose one backend (less queue the better... need to wait....)\n",
    "from qiskit.tools.monitor import job_monitor\n",
    "backend = provider.get_backend(\"ibmq_ourense\")\n",
    "\n",
    "\n",
    "job = qk.execute(qc, backend=backend, shots=1024)\n",
    "job2 = qk.execute(qc2, backend=backend, shots=1024)\n",
    "\n",
    "job_monitor(job)\n",
    "job_monitor(job2)"
   ]
  },
  {
   "cell_type": "code",
   "execution_count": 291,
   "metadata": {},
   "outputs": [
    {
     "data": {
      "image/png": "[encoded data removed]",
      "text/plain": [
       "<Figure size 504x360 with 1 Axes>"
      ]
     },
     "execution_count": 291,
     "metadata": {},
     "output_type": "execute_result"
    }
   ],
   "source": [
    "from qiskit.visualization import plot_histogram\n",
    "from matplotlib import style\n",
    "\n",
    "#dark background on jupyterLab...\n",
    "style.use(\"dark_background\")\n",
    "\n",
    "# Plot results with legend\n",
    "legend = ['1)|alpha|^2=0.9', '2)|alpha|^2=0.3']\n",
    "\n",
    "result=job.result()\n",
    "result2=job2.result()\n",
    "\n",
    "counts = result.get_counts(qc)\n",
    "counts2 = result2.get_counts(qc2)\n",
    "\n",
    "plot_histogram([counts, counts2], legend=legend)\n"
   ]
  },
  {
   "cell_type": "markdown",
   "metadata": {},
   "source": [
    "## I risultati\n",
    "<hr>\n",
    "Leggendo il grafico è chiaro che le letture corrispondono alle nostre aspettative:\n",
    "cioè la somma delle probabilità in cui il Bit di Bob è misurato a $0$ corrisponde ad $|\\alpha|^2$ e la somma delle probabilità in cui il bit di Bob è misurato a $1$ corrisponde a $|\\beta|^2$ "
   ]
  },
  {
   "cell_type": "code",
   "execution_count": null,
   "metadata": {},
   "outputs": [],
   "source": []
  }
 ],
 "metadata": {
  "kernelspec": {
   "display_name": "Python 3",
   "language": "python",
   "name": "python3"
  },
  "language_info": {
   "codemirror_mode": {
    "name": "ipython",
    "version": 3
   },
   "file_extension": ".py",
   "mimetype": "text/x-python",
   "name": "python",
   "nbconvert_exporter": "python",
   "pygments_lexer": "ipython3",
   "version": "3.7.4"
  }
 },
 "nbformat": 4,
 "nbformat_minor": 4
}
