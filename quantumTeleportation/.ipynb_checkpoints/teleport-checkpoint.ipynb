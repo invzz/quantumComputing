{
 "cells": [
  {
   "cell_type": "markdown",
   "metadata": {},
   "source": [
    "## Stati quantistici di un qubit:\n",
    "\n",
    "- Uno stato quantistico generico di un qbit può essere scritto come la sovrapposizione \n",
    "  di due stati:\n",
    "    $$\n",
    "    \\left|\\psi\\right\\rangle = \\alpha\\left|0\\right\\rangle + \\beta \\left|1\\right\\rangle =\n",
    "    \\begin{pmatrix}\n",
    "    \\alpha \\\\\n",
    "    \\beta\n",
    "    \\end{pmatrix}.\n",
    "    $$\n",
    "\n",
    "    dove $\\alpha$ and $\\beta$ sono numeri complessi. \n",
    "\n",
    "- Dopo una misura, la probabilità che il sistema sia in $\\left|0\\right\\rangle$ è $|\\alpha|^2$ \n",
    "- Dopo una misura, la probabilità che il sistema sia in $\\left|1\\right\\rangle$ è $|\\beta|^2$. \n",
    "\n",
    "dato che $|\\alpha|^2+ |\\beta|^2 = 1$ e dato che la fase globale non è rilevabile  $\\left|\\psi\\right\\rangle := e^{i\\delta} \\left|\\psi\\right\\rangle$ abbiamo bisogno solo di due numeri reali per descrivere lo stato di un singolo qbit.\n",
    "\n",
    "\n",
    "$$\\left|\\psi\\right\\rangle = \\cos(\\theta/2)\\left|0\\right\\rangle + \\sin(\\theta/2)e^{i\\phi}\\left|1\\right\\rangle$$\n",
    "\n",
    "dove $0\\leq \\phi < 2\\pi$, e $0\\leq \\theta \\leq \\pi$.  \n",
    "\n",
    "Ne consegue che, come evidenziato vi è la possibilità di mappare tutti gli stati dei qbit ($\\mathbb{C}^2$) sui punti della sfera unitaria\n",
    "($\\mathbb{R}^3$).\n",
    "\n"
   ]
  },
  {
   "cell_type": "code",
   "execution_count": 123,
   "metadata": {},
   "outputs": [
    {
     "name": "stderr",
     "output_type": "stream",
     "text": [
      "Credentials already present. Set overwrite=True to overwrite.\n",
      "Credentials are already in use. The existing account in the session will be replaced.\n"
     ]
    }
   ],
   "source": [
    "## Quantum Teleportation experiment\n",
    "## Andres Coronado - Luca Frontirre` \n",
    "## Unige - Assignment by prof. Solinas\n",
    "import math\n",
    "import qiskit as qk\n",
    "\n",
    "from qiskit import IBMQ\n",
    "from qiskit import ClassicalRegister, QuantumRegister, QuantumCircuit\n",
    "\n",
    "#useful additional packages\n",
    "import matplotlib.pyplot as plt\n",
    "%matplotlib inline\n",
    "import numpy as np\n",
    "from math import pi\n",
    "\n",
    "#visualization\n",
    "from qiskit.visualization import(\n",
    "  plot_state_city,\n",
    "  plot_bloch_multivector,\n",
    "  plot_state_paulivec,\n",
    "  plot_state_hinton,\n",
    "  plot_state_qsphere,\n",
    "    iplot_histogram\n",
    ")\n",
    "\n",
    "\n",
    "IBMQ.save_account(open(\"token.txt\").read())\n",
    "IBMQ.load_account()\n",
    "\n",
    "# funzione che inizializza uno stato quantistico \n",
    "# |psi> = sqrt(alpha)|0> + sqrt(1-alpha)|1>\n",
    "def initializeQuantumState(p,qC):\n",
    "    desired_vector = [\n",
    "    \n",
    "    math.sqrt(p) * complex(0, 1),\n",
    "    math.sqrt(1-p) * complex(1, 0)\n",
    "    \n",
    "    ]\n",
    "    \n",
    "    qC.initialize(desired_vector,[0])\n",
    "   \n",
    "\n",
    "    \n",
    "    #pretty print \n",
    "    print(\"Desired probabilities: \")\n",
    "    \n",
    "    print(str(\n",
    "        list(\n",
    "            map(\n",
    "                lambda x: format(abs(x * x), '.3f'), desired_vector\n",
    "            )\n",
    "        )\n",
    "    ))\n",
    "    \n",
    "    return\n",
    "\n",
    "# Crea stato entangled \n",
    "def createBellEntangledState(qCircuit,aliceQBit,BobQbit):\n",
    "    qCircuit.h(aliceQBit)\n",
    "    qCircuit.cx(aliceQBit,BobQbit)\n",
    "    return   "
   ]
  },
  {
   "cell_type": "code",
   "execution_count": 98,
   "metadata": {},
   "outputs": [],
   "source": [
    "# circuit: circuito quantistico dove implementare il teletraasporto\n",
    "# aliceFstQbit: stato psi da teletrasportare attraverso il protocollo\n",
    "# aliceSndQbit: un Qbit appartenente ad Alice\n",
    "# bobQbit: un Qbit appartenente a Bob\n",
    "\n",
    "def deployTeleportProtocol(qCircuit, aliceFstQbit, aliceSndQbit, bobQbit, measureBits):\n",
    "    createBellEntangledState(qCircuit,aliceSndQbit,bobQbit)\n",
    "    qCircuit.cx(aliceFstQbit,aliceSndQbit)\n",
    "    qCircuit.h(aliceFstQbit)   \n",
    "    qCircuit.measure(aliceFstQbit, measureBits[0])\n",
    "    qCircuit.measure(aliceSndQbit, measureBits[1])\n",
    "    qCircuit.cx(aliceSndQbit,bobQbit)\n",
    "    qCircuit.cz(aliceFstQbit,bobQbit)\n",
    "    qCircuit.measure(bobQbit, measureBits[2])"
   ]
  },
  {
   "cell_type": "code",
   "execution_count": 134,
   "metadata": {},
   "outputs": [
    {
     "name": "stdout",
     "output_type": "stream",
     "text": [
      "Desired probabilities: \n",
      "['0.400', '0.600']\n"
     ]
    }
   ],
   "source": [
    "# contiene i qbit: due di Alice uno di Bob \n",
    "q = QuantumRegister(3) \n",
    "\n",
    "# per effettuare le misure\n",
    "c = ClassicalRegister(3)\n",
    "\n",
    "# contiene il programma che verra` eseguito\n",
    "qc = QuantumCircuit(q,c)\n",
    "\n",
    "modAlphaSquared = 0.4\n",
    "\n",
    "initializeQuantumState(modAlphaSquared,qc)\n",
    "\n",
    "\n",
    "deployTeleportProtocol(qc,q[0],q[1],q[2],c)"
   ]
  },
  {
   "cell_type": "code",
   "execution_count": 135,
   "metadata": {},
   "outputs": [
    {
     "data": {
      "image/png": "[encoded data removed]",
      "text/plain": [
       "<Figure size 1201.59x264.88 with 1 Axes>"
      ]
     },
     "execution_count": 135,
     "metadata": {},
     "output_type": "execute_result"
    }
   ],
   "source": [
    "qc.draw(output='mpl')"
   ]
  },
  {
   "cell_type": "code",
   "execution_count": 136,
   "metadata": {},
   "outputs": [
    {
     "name": "stdout",
     "output_type": "stream",
     "text": [
      "[ibmq_qasm_simulator] ha 2 lavori in coda e simulated qubits\n",
      "[ibmqx2] ha 5 lavori in coda e 5 qubits\n",
      "[ibmq_16_melbourne] ha 10 lavori in coda e 15 qubits\n",
      "[ibmq_vigo] ha 6 lavori in coda e 5 qubits\n",
      "[ibmq_ourense] ha 3 lavori in coda e 5 qubits\n",
      "[ibmq_london] ha 24 lavori in coda e 5 qubits\n",
      "[ibmq_burlington] ha 1 lavori in coda e 5 qubits\n",
      "[ibmq_essex] ha 3 lavori in coda e 5 qubits\n",
      "[ibmq_armonk] ha 1 lavori in coda e 1 qubits\n"
     ]
    }
   ],
   "source": [
    "#printing out all the queues\n",
    "provider = IBMQ.get_provider(\"ibm-q\")\n",
    "\n",
    "for backend in provider.backends():\n",
    "    try:\n",
    "        qubit_count =  len(backend.properties().qubits)\n",
    "    except:\n",
    "        qubit_count = \"simulated\"\n",
    "        \n",
    "    #Italian Front-End :-D\n",
    "    print(f\"[{backend.name()}] ha {backend.status().pending_jobs} lavori in coda e {qubit_count} qubits\")"
   ]
  },
  {
   "cell_type": "code",
   "execution_count": 137,
   "metadata": {},
   "outputs": [
    {
     "name": "stdout",
     "output_type": "stream",
     "text": [
      "Job Status: job has successfully run\n"
     ]
    }
   ],
   "source": [
    "#chose one backend (less queue better... need to wait....)\n",
    "from qiskit.tools.monitor import job_monitor\n",
    "backend = provider.get_backend(\"ibmq_qasm_simulator\")\n",
    "job = qk.execute(qc, backend=backend, shots=1024)\n",
    "job_monitor(job)"
   ]
  },
  {
   "cell_type": "code",
   "execution_count": 138,
   "metadata": {},
   "outputs": [
    {
     "data": {
      "image/png": "[encoded data removed]",
      "text/plain": [
       "<Figure size 504x360 with 1 Axes>"
      ]
     },
     "execution_count": 138,
     "metadata": {},
     "output_type": "execute_result"
    }
   ],
   "source": [
    "from qiskit.visualization import plot_histogram\n",
    "from matplotlib import style\n",
    "\n",
    "#dark background on jupyterLab...\n",
    "style.use(\"dark_background\")\n",
    "\n",
    "result=job.result()\n",
    "counts = result.get_counts(qc)\n",
    "\n",
    "plot_histogram([counts])"
   ]
  },
  {
   "cell_type": "code",
   "execution_count": null,
   "metadata": {},
   "outputs": [],
   "source": []
  }
 ],
 "metadata": {
  "kernelspec": {
   "display_name": "Python 3",
   "language": "python",
   "name": "python3"
  },
  "language_info": {
   "codemirror_mode": {
    "name": "ipython",
    "version": 3
   },
   "file_extension": ".py",
   "mimetype": "text/x-python",
   "name": "python",
   "nbconvert_exporter": "python",
   "pygments_lexer": "ipython3",
   "version": "3.7.4"
  }
 },
 "nbformat": 4,
 "nbformat_minor": 4
}
