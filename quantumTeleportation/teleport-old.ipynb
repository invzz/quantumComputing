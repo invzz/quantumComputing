{
 "cells": [
  {
   "cell_type": "markdown",
   "metadata": {},
   "source": [
    "Andres Coronado, Luca Frontirre\\`\n",
    "corso di computazione quantistica anno 2019/2020\n",
    "# Teletrasporto quantistisco"
   ]
  },
  {
   "cell_type": "code",
   "execution_count": 1,
   "metadata": {},
   "outputs": [],
   "source": [
    "## Imports\n",
    "import qiskit as qk\n",
    "from qiskit import IBMQ\n",
    "\n",
    "## IBM API Initializer.\n",
    "def initializeApi():\n",
    "    IBMQ.save_account(open(\"token.txt\").read())\n",
    "    IBMQ.load_account()"
   ]
  },
  {
   "cell_type": "code",
   "execution_count": 2,
   "metadata": {},
   "outputs": [
    {
     "name": "stderr",
     "output_type": "stream",
     "text": [
      "Credentials already present. Set overwrite=True to overwrite.\n"
     ]
    }
   ],
   "source": [
    "initializeApi()"
   ]
  },
  {
   "cell_type": "code",
   "execution_count": 3,
   "metadata": {},
   "outputs": [],
   "source": [
    "# create a bell pair\n",
    "# To generate an entangled states (eg. between Alice's qbit and Bob's qbit )\n",
    "def createBellPair(program, fst, snd):\n",
    "    program.h(fst)\n",
    "    program.cx(fst,snd)\n",
    "    return \n",
    "\n",
    "# TODO: qua va la funzione che dato un registro e una probabilita`\n",
    "# modAlphaQuadro crei uno stato sovrapposto aggiungento gates al circuito program \n",
    "# in maniera che i fattori siano dimensionati in maniera giusta, \n",
    "# ritorna una stringa contenente la lista delle gates applicate: es \"zhc\"\n",
    "def createPsi(qbit, modAlphaQuadro, program) -> str:\n",
    "    return \"\"\n",
    "\n",
    "# TODO: qua va la funzione che dato un registro e una lista di porte\n",
    "# aggiunga altrettante porte inverse  al circuito, e` void (nessun valore di ritorno)\n",
    "def decodePsi(gateList ,q):\n",
    "    return \n",
    "\n",
    "# Dato un circuito inizializzato e la probabilita` di |0> (aka modAplhaQuadro)\n",
    "# crea il circuito che implenta il protocollo di teletrasporto \n",
    "def setTeleportCircuit(program,p):\n",
    "    gateList = createPsi(q[0],p,program)\n",
    "    program.barrier()\n",
    "    createBellPair(program, q[0], q[1])\n",
    "    program.cx(q[2], q[0])\n",
    "    program.measure(q[0],c[0])\n",
    "    program.barrier()\n",
    "    program.h(q[2])\n",
    "    program.cx(q[1],q[0])\n",
    "    program.cz(q[2],q[1])\n",
    "    program.measure(q[2],c[2])\n",
    "    program.barrier()\n",
    "    decodePsi( gateList, q[1] )\n",
    "    program.barrier()\n",
    "    program.measure(q[1],c[1])\n",
    "    "
   ]
  },
  {
   "cell_type": "code",
   "execution_count": 4,
   "metadata": {},
   "outputs": [
    {
     "data": {
      "image/png": "[encoded data removed]",
      "text/plain": [
       "<Figure size 889.756x264.88 with 1 Axes>"
      ]
     },
     "execution_count": 4,
     "metadata": {},
     "output_type": "execute_result"
    }
   ],
   "source": [
    "# q[0]  Alice's qbit \n",
    "# q[1]  Bob's qbit \n",
    "# q[2]  psi status to be sent from A to B (Alice second qbit)\n",
    "q = qk.QuantumRegister(3)\n",
    "\n",
    "## necessari per le misure\n",
    "c = qk.ClassicalRegister(3)\n",
    "\n",
    "program = qk.QuantumCircuit(q,c)\n",
    "\n",
    "p=0.9\n",
    "\n",
    "setTeleportCircuit(program, p)\n",
    "\n",
    "program.draw(output='mpl')\n"
   ]
  },
  {
   "cell_type": "code",
   "execution_count": null,
   "metadata": {},
   "outputs": [],
   "source": []
  },
  {
   "cell_type": "code",
   "execution_count": null,
   "metadata": {},
   "outputs": [],
   "source": []
  }
 ],
 "metadata": {
  "kernelspec": {
   "display_name": "Python 3",
   "language": "python",
   "name": "python3"
  },
  "language_info": {
   "codemirror_mode": {
    "name": "ipython",
    "version": 3
   },
   "file_extension": ".py",
   "mimetype": "text/x-python",
   "name": "python",
   "nbconvert_exporter": "python",
   "pygments_lexer": "ipython3",
   "version": "3.7.4"
  }
 },
 "nbformat": 4,
 "nbformat_minor": 4
}
